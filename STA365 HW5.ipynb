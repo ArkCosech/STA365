{
  "nbformat": 4,
  "nbformat_minor": 0,
  "metadata": {
    "colab": {
      "provenance": []
    },
    "kernelspec": {
      "name": "python3",
      "display_name": "Python 3"
    },
    "language_info": {
      "name": "python"
    }
  },
  "cells": [
    {
      "cell_type": "code",
      "execution_count": 1,
      "metadata": {
        "id": "hBP2l9gmed-V"
      },
      "outputs": [],
      "source": [
        "import pandas as pd\n",
        "import numpy as np\n",
        "import matplotlib.pyplot as plt\n",
        "import pymc as pm\n",
        "from pymc import math\n",
        "from sklearn.linear_model import LinearRegression\n",
        "from sklearn.preprocessing import StandardScaler"
      ]
    },
    {
      "cell_type": "markdown",
      "source": [
        "# STA365 HW5"
      ],
      "metadata": {
        "id": "1TwDjtiFeiLc"
      }
    },
    {
      "cell_type": "markdown",
      "source": [
        "## Part I"
      ],
      "metadata": {
        "id": "XQnZFWySeq4N"
      }
    },
    {
      "cell_type": "code",
      "source": [
        "from google.colab import drive\n",
        "drive.mount('/content/drive')\n",
        "df = pd.read_csv(\"/content/drive/My Drive/house-prices-advanced-regression-techniques 2/train.csv\")"
      ],
      "metadata": {
        "colab": {
          "base_uri": "https://localhost:8080/"
        },
        "id": "q9WiM1RMesvN",
        "outputId": "bd099d10-5676-46f9-ee9a-45c6e0598bac"
      },
      "execution_count": 2,
      "outputs": [
        {
          "output_type": "stream",
          "name": "stdout",
          "text": [
            "Drive already mounted at /content/drive; to attempt to forcibly remount, call drive.mount(\"/content/drive\", force_remount=True).\n"
          ]
        }
      ]
    },
    {
      "cell_type": "markdown",
      "source": [
        "From previous homework, I observed that the outcome variable follows an approximately log-normal distribution, so I will make a log transformation. I will also select only some of the numeric variables from the independent variables for the simplicity of this homework."
      ],
      "metadata": {
        "id": "0FWariqHiBKd"
      }
    },
    {
      "cell_type": "code",
      "source": [
        "df1 = df[['LotFrontage', 'LotArea', 'TotalBsmtSF', '1stFlrSF', 'GrLivArea', 'TotRmsAbvGrd', 'SalePrice']]\n",
        "df1 = df1.dropna()\n",
        "X = df1.drop('SalePrice', axis = 1)\n",
        "y = df1['SalePrice']\n",
        "n, p = X.shape\n",
        "X = X.values\n",
        "y = y.values.reshape(-1, 1)\n",
        "y = np.log(y)\n",
        "scalerX = StandardScaler()\n",
        "scalery = StandardScaler()\n",
        "X = scalerX.fit_transform(X)\n",
        "y = scalery.fit_transform(y)"
      ],
      "metadata": {
        "id": "E9k5kPeLhPuM"
      },
      "execution_count": 3,
      "outputs": []
    },
    {
      "cell_type": "code",
      "source": [
        "print(f\"Mean: {np.mean(y)}, Standard Deviation: {np.std(y)}\")"
      ],
      "metadata": {
        "colab": {
          "base_uri": "https://localhost:8080/"
        },
        "id": "EPOBlHHdlo3C",
        "outputId": "78c58f33-fa62-4069-ba8f-50ae9aaf1612"
      },
      "execution_count": 5,
      "outputs": [
        {
          "output_type": "stream",
          "name": "stdout",
          "text": [
            "Mean: 4.027493483502816e-15, Standard Deviation: 1.0\n"
          ]
        }
      ]
    },
    {
      "cell_type": "code",
      "source": [
        "model = LinearRegression()\n",
        "model.fit(X, y)\n",
        "slope = model.coef_\n",
        "intercept = model.intercept_\n",
        "print(f\"Coefficients: {slope}\")\n",
        "print(f\"Intercept: {intercept}\")"
      ],
      "metadata": {
        "colab": {
          "base_uri": "https://localhost:8080/"
        },
        "id": "327r6GdEnmi8",
        "outputId": "a8e40641-0867-42b9-9885-e6c147dd9ac9"
      },
      "execution_count": 6,
      "outputs": [
        {
          "output_type": "stream",
          "name": "stdout",
          "text": [
            "Coefficients: [[-0.00722875  0.01727701  0.37547416  0.00880168  0.51196367 -0.00485635]]\n",
            "Intercept: [3.96298626e-15]\n"
          ]
        }
      ]
    },
    {
      "cell_type": "markdown",
      "source": [
        "Now we proceed with the Bayesian Linear model. I adjusted the hyperparameters based on my observations from the code above."
      ],
      "metadata": {
        "id": "zbDqcE71k0ed"
      }
    },
    {
      "cell_type": "code",
      "source": [
        "with pm.Model() as MLR:\n",
        "  betas = pm.MvNormal('betas', mu=np.zeros(p), cov=np.eye(p), shape=p)\n",
        "  sigma = pm.TruncatedNormal('sigma', mu=0, sigma=1, lower=0)\n",
        "  y_est = pm.math.dot(X, betas)\n",
        "  y_obs = pm.Normal('y_obs', mu=y_est, sigma=sigma, observed=y.reshape(-1))\n",
        "  idata = pm.sample(chains=4)"
      ],
      "metadata": {
        "colab": {
          "base_uri": "https://localhost:8080/",
          "height": 152
        },
        "id": "f9-C6pXiku_q",
        "outputId": "a00e107f-34c4-4f28-c537-b08a0245c914"
      },
      "execution_count": 7,
      "outputs": [
        {
          "output_type": "display_data",
          "data": {
            "text/plain": [
              "<IPython.core.display.HTML object>"
            ],
            "text/html": [
              "\n",
              "<style>\n",
              "    /* Turns off some styling */\n",
              "    progress {\n",
              "        /* gets rid of default border in Firefox and Opera. */\n",
              "        border: none;\n",
              "        /* Needs to be in here for Safari polyfill so background images work as expected. */\n",
              "        background-size: auto;\n",
              "    }\n",
              "    progress:not([value]), progress:not([value])::-webkit-progress-bar {\n",
              "        background: repeating-linear-gradient(45deg, #7e7e7e, #7e7e7e 10px, #5c5c5c 10px, #5c5c5c 20px);\n",
              "    }\n",
              "    .progress-bar-interrupted, .progress-bar-interrupted::-webkit-progress-bar {\n",
              "        background: #F44336;\n",
              "    }\n",
              "</style>\n"
            ]
          },
          "metadata": {}
        },
        {
          "output_type": "display_data",
          "data": {
            "text/plain": [
              "<IPython.core.display.HTML object>"
            ],
            "text/html": [
              "\n",
              "    <div>\n",
              "      <progress value='2000' class='' max='2000' style='width:300px; height:20px; vertical-align: middle;'></progress>\n",
              "      100.00% [2000/2000 00:05&lt;00:00 Sampling chain 0, 0 divergences]\n",
              "    </div>\n",
              "    "
            ]
          },
          "metadata": {}
        },
        {
          "output_type": "display_data",
          "data": {
            "text/plain": [
              "<IPython.core.display.HTML object>"
            ],
            "text/html": [
              "\n",
              "<style>\n",
              "    /* Turns off some styling */\n",
              "    progress {\n",
              "        /* gets rid of default border in Firefox and Opera. */\n",
              "        border: none;\n",
              "        /* Needs to be in here for Safari polyfill so background images work as expected. */\n",
              "        background-size: auto;\n",
              "    }\n",
              "    progress:not([value]), progress:not([value])::-webkit-progress-bar {\n",
              "        background: repeating-linear-gradient(45deg, #7e7e7e, #7e7e7e 10px, #5c5c5c 10px, #5c5c5c 20px);\n",
              "    }\n",
              "    .progress-bar-interrupted, .progress-bar-interrupted::-webkit-progress-bar {\n",
              "        background: #F44336;\n",
              "    }\n",
              "</style>\n"
            ]
          },
          "metadata": {}
        },
        {
          "output_type": "display_data",
          "data": {
            "text/plain": [
              "<IPython.core.display.HTML object>"
            ],
            "text/html": [
              "\n",
              "    <div>\n",
              "      <progress value='2000' class='' max='2000' style='width:300px; height:20px; vertical-align: middle;'></progress>\n",
              "      100.00% [2000/2000 00:04&lt;00:00 Sampling chain 1, 0 divergences]\n",
              "    </div>\n",
              "    "
            ]
          },
          "metadata": {}
        },
        {
          "output_type": "display_data",
          "data": {
            "text/plain": [
              "<IPython.core.display.HTML object>"
            ],
            "text/html": [
              "\n",
              "<style>\n",
              "    /* Turns off some styling */\n",
              "    progress {\n",
              "        /* gets rid of default border in Firefox and Opera. */\n",
              "        border: none;\n",
              "        /* Needs to be in here for Safari polyfill so background images work as expected. */\n",
              "        background-size: auto;\n",
              "    }\n",
              "    progress:not([value]), progress:not([value])::-webkit-progress-bar {\n",
              "        background: repeating-linear-gradient(45deg, #7e7e7e, #7e7e7e 10px, #5c5c5c 10px, #5c5c5c 20px);\n",
              "    }\n",
              "    .progress-bar-interrupted, .progress-bar-interrupted::-webkit-progress-bar {\n",
              "        background: #F44336;\n",
              "    }\n",
              "</style>\n"
            ]
          },
          "metadata": {}
        },
        {
          "output_type": "display_data",
          "data": {
            "text/plain": [
              "<IPython.core.display.HTML object>"
            ],
            "text/html": [
              "\n",
              "    <div>\n",
              "      <progress value='2000' class='' max='2000' style='width:300px; height:20px; vertical-align: middle;'></progress>\n",
              "      100.00% [2000/2000 00:05&lt;00:00 Sampling chain 2, 0 divergences]\n",
              "    </div>\n",
              "    "
            ]
          },
          "metadata": {}
        },
        {
          "output_type": "display_data",
          "data": {
            "text/plain": [
              "<IPython.core.display.HTML object>"
            ],
            "text/html": [
              "\n",
              "<style>\n",
              "    /* Turns off some styling */\n",
              "    progress {\n",
              "        /* gets rid of default border in Firefox and Opera. */\n",
              "        border: none;\n",
              "        /* Needs to be in here for Safari polyfill so background images work as expected. */\n",
              "        background-size: auto;\n",
              "    }\n",
              "    progress:not([value]), progress:not([value])::-webkit-progress-bar {\n",
              "        background: repeating-linear-gradient(45deg, #7e7e7e, #7e7e7e 10px, #5c5c5c 10px, #5c5c5c 20px);\n",
              "    }\n",
              "    .progress-bar-interrupted, .progress-bar-interrupted::-webkit-progress-bar {\n",
              "        background: #F44336;\n",
              "    }\n",
              "</style>\n"
            ]
          },
          "metadata": {}
        },
        {
          "output_type": "display_data",
          "data": {
            "text/plain": [
              "<IPython.core.display.HTML object>"
            ],
            "text/html": [
              "\n",
              "    <div>\n",
              "      <progress value='2000' class='' max='2000' style='width:300px; height:20px; vertical-align: middle;'></progress>\n",
              "      100.00% [2000/2000 00:04&lt;00:00 Sampling chain 3, 0 divergences]\n",
              "    </div>\n",
              "    "
            ]
          },
          "metadata": {}
        },
        {
          "output_type": "stream",
          "name": "stderr",
          "text": [
            "/usr/local/lib/python3.10/dist-packages/arviz/utils.py:184: NumbaDeprecationWarning: The 'nopython' keyword argument was not supplied to the 'numba.jit' decorator. The implicit default value for this argument is currently False, but it will be changed to True in Numba 0.59.0. See https://numba.readthedocs.io/en/stable/reference/deprecation.html#deprecation-of-object-mode-fall-back-behaviour-when-using-jit for details.\n",
            "  numba_fn = numba.jit(**self.kwargs)(self.function)\n"
          ]
        }
      ]
    },
    {
      "cell_type": "markdown",
      "source": [
        "## Part II"
      ],
      "metadata": {
        "id": "3tqIGqVGsNsp"
      }
    },
    {
      "cell_type": "markdown",
      "source": [
        "1. $p(y|\\beta, \\sigma^2I, X)=(2\\pi)^{-n/2}\\exp(-\\frac{1}{2\\sigma^2}(y-X\\beta)^T(y-X\\beta)) \\\\ ∝\\exp(\\frac{1}{\\sigma^2}\\beta^TX^Ty-\\frac{1}{2\\sigma^2}\\beta^TX^TX\\beta)\\\\ ∝\\exp(-\\frac{1}{2}(\\beta-(X^TX)^{-1}X^Ty\\sigma^{-4})^T(X^TX\\sigma^{-2})(\\beta-(X^TX)^{-1}X^Ty\\sigma^{-4}))$\n",
        "\n",
        "2. $E[\\beta|\\Sigma, X, y]=Var[\\beta|\\Sigma, X, y]^{-1}(X^T\\Sigma^{-1}y+\\Sigma_{\\beta}^{-1}\\beta_0) \\\\ = \\{[X^T\\Sigma^{-1}X]^{-1}+\\Sigma_{\\beta}^{-1}\\}^{-1}(X^T\\Sigma^{-1}y+\\Sigma_{\\beta}^{-1}\\beta_0)$\n",
        "\n",
        "3. From the formula in part 2, if $\\Sigma=I$ and $\\Sigma_{\\beta}=0$, then $E[\\beta|\\Sigma, X, y]=(X^TX)^{-1}X^Ty$\n",
        "\n",
        "4. Since $E[\\hat{y}=X\\beta|\\Sigma,X,y]=E(X)E[\\beta|\\Sigma,X,y]=X\\cdot E[\\beta|\\Sigma,X,y]$, from the result in question 3, if $\\Sigma=I$ and $\\Sigma_{\\beta}=0$, then $E[\\hat{y}=X\\beta|\\Sigma,X,y]=X\\cdot E[\\beta|\\Sigma,X,y]=X\\cdot(X^TX)^{-1}X^Ty$\n",
        "\n",
        "5. We know from lecture that $Var[\\beta|\\Sigma,X,y]=[X^T\\Sigma^{-1}X]^{-1}+\\Sigma_{\\beta}^{-1}$, so in the case of $\\Sigma=I$ and $\\Sigma_{\\beta}=0$, $Var[\\beta|\\Sigma,X,y]=(X^TX)^{-1}$"
      ],
      "metadata": {
        "id": "1lgFeH4VsQLR"
      }
    },
    {
      "cell_type": "markdown",
      "source": [
        "## Part III"
      ],
      "metadata": {
        "id": "2_TsWrIWUzRW"
      }
    },
    {
      "cell_type": "markdown",
      "source": [
        "We will use the same house pricing data in part 1. For $\\mu$, a $MVN$ prior with mean $0$ and covariance $I$ would be a very sensible choice because I standardized the data in the preprocessing."
      ],
      "metadata": {
        "id": "BrAE-0joU96Z"
      }
    },
    {
      "cell_type": "code",
      "source": [
        "# We have the preprocessed X and y from part I\n",
        "with pm.Model() as MVN_LKJ:\n",
        "    packed_L = pm.LKJCholeskyCov(\"packed_L\", n=p, eta=2.0,\n",
        "                                 sd_dist=pm.Exponential.dist(1.0, shape=2), compute_corr=False)\n",
        "    L = pm.expand_packed_triangular(p, packed_L)\n",
        "    # Sigma = pm.Deterministic('Sigma', L.dot(L.T)) # Don't use a covariance matrix parameterization\n",
        "    mu = pm.MvNormal('mu', mu=np.array(0), cov=np.eye(p), shape=p);\n",
        "    # y = pm.MvNormal('y', mu=mu, cov=Sigma, shape=(n,1), observed=y)\n",
        "    # Figure out how to parameterize this with a Cholesky factor to improve computational efficiency\n",
        "    y_obs = pm.MvNormal('y_obs', mu=mu, chol=L, observed=y)\n",
        "\n",
        "with MVN_LKJ:\n",
        "    idata = pm.sample()"
      ],
      "metadata": {
        "colab": {
          "base_uri": "https://localhost:8080/",
          "height": 37
        },
        "id": "Keu7_oHcU8_t",
        "outputId": "eb9d27d5-b959-4d8d-b02e-a7cd5cd64247"
      },
      "execution_count": null,
      "outputs": [
        {
          "output_type": "display_data",
          "data": {
            "text/plain": [
              "<IPython.core.display.HTML object>"
            ],
            "text/html": [
              "\n",
              "<style>\n",
              "    /* Turns off some styling */\n",
              "    progress {\n",
              "        /* gets rid of default border in Firefox and Opera. */\n",
              "        border: none;\n",
              "        /* Needs to be in here for Safari polyfill so background images work as expected. */\n",
              "        background-size: auto;\n",
              "    }\n",
              "    progress:not([value]), progress:not([value])::-webkit-progress-bar {\n",
              "        background: repeating-linear-gradient(45deg, #7e7e7e, #7e7e7e 10px, #5c5c5c 10px, #5c5c5c 20px);\n",
              "    }\n",
              "    .progress-bar-interrupted, .progress-bar-interrupted::-webkit-progress-bar {\n",
              "        background: #F44336;\n",
              "    }\n",
              "</style>\n"
            ]
          },
          "metadata": {}
        },
        {
          "output_type": "display_data",
          "data": {
            "text/plain": [
              "<IPython.core.display.HTML object>"
            ],
            "text/html": [
              "\n",
              "    <div>\n",
              "      <progress value='1029' class='' max='2000' style='width:300px; height:20px; vertical-align: middle;'></progress>\n",
              "      51.45% [1029/2000 10:52&lt;10:15 Sampling chain 0, 0 divergences]\n",
              "    </div>\n",
              "    "
            ]
          },
          "metadata": {}
        }
      ]
    }
  ]
}