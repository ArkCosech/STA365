{
  "nbformat": 4,
  "nbformat_minor": 0,
  "metadata": {
    "colab": {
      "provenance": []
    },
    "kernelspec": {
      "name": "python3",
      "display_name": "Python 3"
    },
    "language_info": {
      "name": "python"
    }
  },
  "cells": [
    {
      "cell_type": "code",
      "execution_count": 2,
      "metadata": {
        "id": "d46ZjWZogFiP"
      },
      "outputs": [],
      "source": [
        "import pandas as pd\n",
        "import pymc as pm\n",
        "import numpy as np\n",
        "import statsmodels.api as sm"
      ]
    },
    {
      "cell_type": "markdown",
      "source": [
        "# STA365 Homework 6"
      ],
      "metadata": {
        "id": "w9JXaVOPgMwM"
      }
    },
    {
      "cell_type": "markdown",
      "source": [
        "## Part I"
      ],
      "metadata": {
        "id": "9IjCgpU2gQlt"
      }
    },
    {
      "cell_type": "markdown",
      "source": [
        "I will use the classical Kaggle titanic data set."
      ],
      "metadata": {
        "id": "-a0mVJ01hjzO"
      }
    },
    {
      "cell_type": "code",
      "source": [
        "from google.colab import drive\n",
        "drive.mount('/content/drive')\n",
        "\n",
        "df = pd.read_csv(\"/content/drive/My Drive/titanic_train.csv\")"
      ],
      "metadata": {
        "colab": {
          "base_uri": "https://localhost:8080/"
        },
        "id": "s7VzdoiUgP6q",
        "outputId": "66ced30d-5f4c-4639-8cfb-6325a3dd2b00"
      },
      "execution_count": 3,
      "outputs": [
        {
          "output_type": "stream",
          "name": "stdout",
          "text": [
            "Mounted at /content/drive\n"
          ]
        }
      ]
    },
    {
      "cell_type": "code",
      "source": [
        "df.columns"
      ],
      "metadata": {
        "colab": {
          "base_uri": "https://localhost:8080/"
        },
        "id": "FK6P-TXNkMWU",
        "outputId": "df1c0994-0683-4966-fd52-6b2a1d6e4dc6"
      },
      "execution_count": 4,
      "outputs": [
        {
          "output_type": "execute_result",
          "data": {
            "text/plain": [
              "Index(['PassengerId', 'Survived', 'Pclass', 'Name', 'Sex', 'Age', 'SibSp',\n",
              "       'Parch', 'Ticket', 'Fare', 'Cabin', 'Embarked'],\n",
              "      dtype='object')"
            ]
          },
          "metadata": {},
          "execution_count": 4
        }
      ]
    },
    {
      "cell_type": "markdown",
      "source": [
        "I will first do some basic cleaning. I will also select numerical variables only to satisfy the Multivariate normal assumption."
      ],
      "metadata": {
        "id": "43lmPUzoh_ln"
      }
    },
    {
      "cell_type": "code",
      "source": [
        "df1 = df.dropna()\n",
        "df_num = df1.select_dtypes(include = ['float64', 'int64'])\n",
        "X = df_num.drop(['PassengerId', 'Survived'], axis = 1)\n",
        "y = df_num['Survived']"
      ],
      "metadata": {
        "id": "GgKUyTpUh62G"
      },
      "execution_count": 5,
      "outputs": []
    },
    {
      "cell_type": "markdown",
      "source": [
        "Before specifying our model, let's fit an ordinary logistic regression first to gain some insights about our prior."
      ],
      "metadata": {
        "id": "6gtdUCmvkqgo"
      }
    },
    {
      "cell_type": "code",
      "source": [
        "log_reg = sm.Logit(y, X).fit()\n",
        "print(log_reg.summary())"
      ],
      "metadata": {
        "colab": {
          "base_uri": "https://localhost:8080/"
        },
        "id": "4m1fTN0Gk4Dc",
        "outputId": "8d65013d-2cf1-4316-f103-52baa9e7ec45"
      },
      "execution_count": 6,
      "outputs": [
        {
          "output_type": "stream",
          "name": "stdout",
          "text": [
            "Optimization terminated successfully.\n",
            "         Current function value: 0.605855\n",
            "         Iterations 6\n",
            "                           Logit Regression Results                           \n",
            "==============================================================================\n",
            "Dep. Variable:               Survived   No. Observations:                  183\n",
            "Model:                          Logit   Df Residuals:                      178\n",
            "Method:                           MLE   Df Model:                            4\n",
            "Date:                Wed, 13 Mar 2024   Pseudo R-squ.:                 0.04237\n",
            "Time:                        05:36:33   Log-Likelihood:                -110.87\n",
            "converged:                       True   LL-Null:                       -115.78\n",
            "Covariance Type:            nonrobust   LLR p-value:                   0.04375\n",
            "==============================================================================\n",
            "                 coef    std err          z      P>|z|      [0.025      0.975]\n",
            "------------------------------------------------------------------------------\n",
            "Pclass         0.5360      0.230      2.327      0.020       0.084       0.987\n",
            "Age           -0.0167      0.008     -2.125      0.034      -0.032      -0.001\n",
            "SibSp          0.2992      0.306      0.978      0.328      -0.300       0.899\n",
            "Parch         -0.3343      0.260     -1.287      0.198      -0.844       0.175\n",
            "Fare           0.0089      0.004      2.514      0.012       0.002       0.016\n",
            "==============================================================================\n"
          ]
        }
      ]
    },
    {
      "cell_type": "markdown",
      "source": [
        "Now, we will specify our Bayesian logistic regression model."
      ],
      "metadata": {
        "id": "SFexFPE8keet"
      }
    },
    {
      "cell_type": "code",
      "source": [
        "n,p=X.shape\n",
        "with pm.Model() as MLR:\n",
        "    betas = pm.Normal('betas', mu=0, sigma=0.1, shape=p)\n",
        "    sigma = pm.TruncatedNormal('sigma', mu=0.1, sigma=1, lower=0) # half normal\n",
        "    logit_p = pm.math.dot(X, betas)\n",
        "    y_obs = pm.Bernoulli('y_obs', pm.math.sigmoid(logit_p), observed=y)\n",
        "\n",
        "with MLR:\n",
        "    idata = pm.sample()"
      ],
      "metadata": {
        "colab": {
          "base_uri": "https://localhost:8080/",
          "height": 57
        },
        "id": "MwxlbeZQkdlW",
        "outputId": "ee0daa40-cd2c-4c8a-9d36-6b7db220d9c0"
      },
      "execution_count": 10,
      "outputs": [
        {
          "output_type": "display_data",
          "data": {
            "text/plain": [
              "<IPython.core.display.HTML object>"
            ],
            "text/html": [
              "\n",
              "<style>\n",
              "    /* Turns off some styling */\n",
              "    progress {\n",
              "        /* gets rid of default border in Firefox and Opera. */\n",
              "        border: none;\n",
              "        /* Needs to be in here for Safari polyfill so background images work as expected. */\n",
              "        background-size: auto;\n",
              "    }\n",
              "    progress:not([value]), progress:not([value])::-webkit-progress-bar {\n",
              "        background: repeating-linear-gradient(45deg, #7e7e7e, #7e7e7e 10px, #5c5c5c 10px, #5c5c5c 20px);\n",
              "    }\n",
              "    .progress-bar-interrupted, .progress-bar-interrupted::-webkit-progress-bar {\n",
              "        background: #F44336;\n",
              "    }\n",
              "</style>\n"
            ]
          },
          "metadata": {}
        },
        {
          "output_type": "display_data",
          "data": {
            "text/plain": [
              "<IPython.core.display.HTML object>"
            ],
            "text/html": [
              "\n",
              "    <div>\n",
              "      <progress value='2000' class='' max='2000' style='width:300px; height:20px; vertical-align: middle;'></progress>\n",
              "      100.00% [2000/2000 00:07&lt;00:00 Sampling chain 0, 0 divergences]\n",
              "    </div>\n",
              "    "
            ]
          },
          "metadata": {}
        },
        {
          "output_type": "display_data",
          "data": {
            "text/plain": [
              "<IPython.core.display.HTML object>"
            ],
            "text/html": [
              "\n",
              "<style>\n",
              "    /* Turns off some styling */\n",
              "    progress {\n",
              "        /* gets rid of default border in Firefox and Opera. */\n",
              "        border: none;\n",
              "        /* Needs to be in here for Safari polyfill so background images work as expected. */\n",
              "        background-size: auto;\n",
              "    }\n",
              "    progress:not([value]), progress:not([value])::-webkit-progress-bar {\n",
              "        background: repeating-linear-gradient(45deg, #7e7e7e, #7e7e7e 10px, #5c5c5c 10px, #5c5c5c 20px);\n",
              "    }\n",
              "    .progress-bar-interrupted, .progress-bar-interrupted::-webkit-progress-bar {\n",
              "        background: #F44336;\n",
              "    }\n",
              "</style>\n"
            ]
          },
          "metadata": {}
        },
        {
          "output_type": "display_data",
          "data": {
            "text/plain": [
              "<IPython.core.display.HTML object>"
            ],
            "text/html": [
              "\n",
              "    <div>\n",
              "      <progress value='2000' class='' max='2000' style='width:300px; height:20px; vertical-align: middle;'></progress>\n",
              "      100.00% [2000/2000 00:14&lt;00:00 Sampling chain 1, 0 divergences]\n",
              "    </div>\n",
              "    "
            ]
          },
          "metadata": {}
        }
      ]
    },
    {
      "cell_type": "markdown",
      "source": [
        "## Part II"
      ],
      "metadata": {
        "id": "YniP7x42rwrx"
      }
    },
    {
      "cell_type": "markdown",
      "source": [
        "For LASSO, we are assuming a double exponential prior for $\\beta$, where\n",
        "\n",
        "\\begin{align*}\n",
        "\\beta_i \\sim {} & \\text{Laplace}(b_i,s_i) & f(\\beta_i| b_i, s_i) = {}& {\\frac  {1}{2s}}\\exp \\left(-{\\frac{|\\beta_i-b_i |}{s_i}}\\right) & \\overbrace{\\underbrace{|\\beta_i-b_i|}}_{\\text{Absolute Penalization}}^{L_1}\\\\\n",
        "y_i \\sim {} & \\text{Normal}(x_i^T\\beta, \\sigma) & \\sigma \\sim {} & \\text{HalfNormal}(\\sigma_0)\n",
        "\\end{align*}\n",
        "\n",
        "Then the posterior can be written as\n",
        "\n",
        "$$p(\\beta|y)∝p(\\beta)p(y|\\beta)=\\prod_{i=1}^n{\\frac  {1}{2s_i}}\\exp \\left(-{\\frac{|\\beta-b |}{s_i}}\\right)\\times\\prod_{i=1}^n\\frac{1}{\\sigma\\sqrt{2\\pi}}\\exp{-\\frac{1}{2}(\\frac{y-X\\beta}{\\sigma}})^2$$\n",
        "\n",
        "Replacing $s$ with precision $\\tau$ for simplicity,\n",
        "\n",
        "$$∝\\prod_{j=1}^n\\exp{(-\\frac{1}{\\tau}|\\beta_j|)}\\prod_{i=1}^n\\exp{(-\\frac{1}{\\sigma^2}(y_i-x_i\\beta_i)^2)}=\\exp{(\\sum_{j=1}^n-\\frac{1}{\\tau}|\\beta_j|+\\sum_{i=1}^n-\\frac{1}{\\sigma^2}(y_i-x_i\\beta_i)^2)}$$\n",
        "\n",
        "Finding $\\beta$ minimizing $p(\\beta|y)$ is equivalent to maximizing $\\log p(\\beta|y)$, hence\n",
        "\n",
        "$$\\log p(\\beta|y)∝\\log\\exp{(\\sum_{j=1}^n-\\frac{1}{\\tau}|\\beta_j|+\\sum_{i=1}^n-\\frac{1}{\\sigma^2}(y_i-x_i\\beta_i)^2)}=\\sum_{j=1}^n-\\frac{1}{\\tau}|\\beta_j|+\\sum_{i=1}^n-\\frac{1}{\\sigma^2}(y_i-x_i\\beta_i)^2$$\n",
        "\n",
        "which reduces to the LASSO problem.\n",
        "\n",
        "For ridge, we are assuming a normal prior on $\\beta$, so the posterior can be written as\n",
        "\n",
        "$$p(\\beta|y)∝p(\\beta)p(y|\\beta)=\\exp{(\\frac{1}{2\\sigma^2}(y-X\\beta)^T(y-X\\beta))}\\exp{(-\\frac{1}{2\\tau^2}\\beta^T\\beta)}=\\exp{(\\frac{1}{2\\sigma^2}(y-X\\beta)^T(y-X\\beta)-\\frac{1}{2\\tau^2}\\beta^T\\beta)}$$\n",
        "\n",
        "$$\\log p(\\beta|y)∝\\log\\exp{(\\frac{1}{2\\sigma^2}(y-X\\beta)^T(y-X\\beta)-\\frac{1}{2\\tau^2}\\beta^T\\beta)}=\\frac{1}{2\\sigma^2}(y-X\\beta)^T(y-X\\beta)-\\frac{1}{2\\tau^2}\\beta^T\\beta$$\n",
        "\n",
        "Again, maximizing $\\log p(\\beta|y)$ yields minimizing\n",
        "\n",
        "$$(y-X\\beta)^T(y-X\\beta)+\\frac{\\sigma^2}{\\tau^2}\\beta^T\\beta=\\sum_{i=1}^n(y_i-x^T\\beta)+\\frac{\\sigma^2}{\\tau^2}\\sum_{j=1}^p\\beta_j^2$$\n",
        "\n",
        "Which reduces precisely to the ridge problem."
      ],
      "metadata": {
        "id": "LaoAJoiZr4l_"
      }
    }
  ]
}